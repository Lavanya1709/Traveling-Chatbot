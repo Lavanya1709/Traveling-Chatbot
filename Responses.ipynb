{
 "cells": [
  {
   "cell_type": "code",
   "execution_count": 1,
   "metadata": {},
   "outputs": [
    {
     "name": "stdout",
     "output_type": "stream",
     "text": [
      "importing Jupyter notebook from covid.ipynb\n",
      "importing Jupyter notebook from places.ipynb\n"
     ]
    }
   ],
   "source": [
    "from datetime import datetime\n",
    "import import_ipynb\n",
    "import covid as C\n",
    "import places as P"
   ]
  },
  {
   "cell_type": "code",
   "execution_count": 2,
   "metadata": {},
   "outputs": [],
   "source": [
    "def sample_responses(input_text):\n",
    "    user_message = str(input_text)\n",
    "    \n",
    "    if user_message in (\"hello\", \"hi\",):\n",
    "        return \"Welcome to Traveler chatbot... (Tourist Guide)\\nWhich place are you in?\"\n",
    "    \n",
    "    if user_message in (\"who are you\", \"who are you?\"):\n",
    "        return \"I am a traveler_bot!, I can suggest some best restuarants, hotels, theatres in your place..\\n\"\n",
    "    \n",
    "    if user_message in ('Anantapur', 'Chittoor', 'East Godavari', 'Guntur', 'Krishna', 'Kurnool', 'Other State', 'Prakasam', 'Nellore', 'Srikakulam', 'Visakhapatnam', 'Vizianagaram', 'West Godavari', 'Kadapa'):\n",
    "        if (user_message == 'Nellore'):\n",
    "            string = (C.cases('S.P.S. Nellore'))\n",
    "            return string\n",
    "        elif (user_message == 'Kadapa'):\n",
    "            string = (C.cases('Y.S.R. Kadapa'))\n",
    "            return string\n",
    "        else:\n",
    "            string = (C.cases(user_message))\n",
    "            return string\n",
    "        \n",
    "    li = user_message.split( )\n",
    "    if li[0] in ('Theatres','Restaurants','Hotels'):\n",
    "        return P.place(li[0],li[2])\n",
    "        \n",
    "    if user_message in ('Thank You', 'Thanks'):\n",
    "        return \"You are Welcome\"\n",
    "    \n",
    "    return \"I don't understand u.\""
   ]
  },
  {
   "cell_type": "code",
   "execution_count": null,
   "metadata": {},
   "outputs": [],
   "source": []
  }
 ],
 "metadata": {
  "kernelspec": {
   "display_name": "Python 3",
   "language": "python",
   "name": "python3"
  },
  "language_info": {
   "codemirror_mode": {
    "name": "ipython",
    "version": 3
   },
   "file_extension": ".py",
   "mimetype": "text/x-python",
   "name": "python",
   "nbconvert_exporter": "python",
   "pygments_lexer": "ipython3",
   "version": "3.7.6"
  }
 },
 "nbformat": 4,
 "nbformat_minor": 4
}
