{
 "cells": [
  {
   "cell_type": "code",
   "execution_count": 1,
   "metadata": {},
   "outputs": [],
   "source": [
    "from urllib.request import urlopen\n",
    "import requests\n",
    "import json"
   ]
  },
  {
   "cell_type": "code",
   "execution_count": 2,
   "metadata": {},
   "outputs": [],
   "source": [
    "result = requests.get('https://api.covid19india.org/state_district_wise.json')"
   ]
  },
  {
   "cell_type": "code",
   "execution_count": 3,
   "metadata": {},
   "outputs": [
    {
     "data": {
      "text/plain": [
       "200"
      ]
     },
     "execution_count": 3,
     "metadata": {},
     "output_type": "execute_result"
    }
   ],
   "source": [
    "result.status_code"
   ]
  },
  {
   "cell_type": "code",
   "execution_count": 4,
   "metadata": {},
   "outputs": [],
   "source": [
    "#result.text"
   ]
  },
  {
   "cell_type": "code",
   "execution_count": 5,
   "metadata": {},
   "outputs": [
    {
     "data": {
      "text/plain": [
       "<bound method Response.json of <Response [200]>>"
      ]
     },
     "execution_count": 5,
     "metadata": {},
     "output_type": "execute_result"
    }
   ],
   "source": [
    "result.json"
   ]
  },
  {
   "cell_type": "code",
   "execution_count": 6,
   "metadata": {},
   "outputs": [],
   "source": [
    "url = \"https://api.covid19india.org/state_district_wise.json\"\n",
    "  \n",
    "response = urlopen(url)\n",
    "data_json = json.loads(response.read())\n",
    "  \n",
    "#data_json.keys()\n",
    "#type(data_json['Odisha'])\n"
   ]
  },
  {
   "cell_type": "code",
   "execution_count": 7,
   "metadata": {},
   "outputs": [],
   "source": [
    "def cases(str):\n",
    "    \n",
    "    if (data_json['Andhra Pradesh']['districtData'][str]['active'] > 4500):\n",
    "        return 'In '+str+', cases are above 4500. So,not safe for traveling\\nYou can chose another place'\n",
    "    else:\n",
    "        return 'In '+str+', cases are below 4500. So, safe For Traveling\\nWhere do you want to go?\\nTheatre\\nRestuarant\\nOr Hotel\\nYour input should be in the form (Theatres in West Godavari)'\n",
    "\n",
    "#print(cases('Kurnool'))"
   ]
  },
  {
   "cell_type": "raw",
   "metadata": {},
   "source": [
    "def place(str):\n",
    "    if str in data_json['Andhra Pradesh']['districtData'].keys():\n",
    "        return True\n",
    "    \n",
    "#place('West Godavari')"
   ]
  },
  {
   "cell_type": "code",
   "execution_count": 8,
   "metadata": {},
   "outputs": [
    {
     "data": {
      "text/plain": [
       "dict_keys(['Foreign Evacuees', 'Anantapur', 'Chittoor', 'East Godavari', 'Guntur', 'Krishna', 'Kurnool', 'Other State', 'Prakasam', 'S.P.S. Nellore', 'Srikakulam', 'Visakhapatnam', 'Vizianagaram', 'West Godavari', 'Y.S.R. Kadapa'])"
      ]
     },
     "execution_count": 8,
     "metadata": {},
     "output_type": "execute_result"
    }
   ],
   "source": [
    "data_json['Andhra Pradesh']['districtData'].keys()"
   ]
  },
  {
   "cell_type": "raw",
   "metadata": {},
   "source": [
    "data_json['Andhra Pradesh']['districtData']['Y.S.R. Kadapa']['active']"
   ]
  }
 ],
 "metadata": {
  "kernelspec": {
   "display_name": "Python 3",
   "language": "python",
   "name": "python3"
  },
  "language_info": {
   "codemirror_mode": {
    "name": "ipython",
    "version": 3
   },
   "file_extension": ".py",
   "mimetype": "text/x-python",
   "name": "python",
   "nbconvert_exporter": "python",
   "pygments_lexer": "ipython3",
   "version": "3.7.6"
  }
 },
 "nbformat": 4,
 "nbformat_minor": 4
}
