{
 "cells": [
  {
   "cell_type": "code",
   "execution_count": 1,
   "metadata": {},
   "outputs": [
    {
     "name": "stdout",
     "output_type": "stream",
     "text": [
      "importing Jupyter notebook from Constants.ipynb\n",
      "importing Jupyter notebook from Responses.ipynb\n",
      "importing Jupyter notebook from covid.ipynb\n",
      "importing Jupyter notebook from places.ipynb\n"
     ]
    }
   ],
   "source": [
    "import import_ipynb\n",
    "import Constants as keys\n",
    "from telegram.ext import *\n",
    "import Responses as R"
   ]
  },
  {
   "cell_type": "code",
   "execution_count": 2,
   "metadata": {},
   "outputs": [
    {
     "name": "stdout",
     "output_type": "stream",
     "text": [
      "Bot started..\n"
     ]
    }
   ],
   "source": [
    "print(\"Bot started..\")\n",
    "\n",
    "def start_command(update, context):\n",
    "    update.message.reply_text('Welcome to Traveler chatbot (Tourist Guide)\\nI can Suggest best place near by.. like,\\nTheatre\\nRestuarant\\nHotel etc\\nMay I know which district do you want to go in Andhra Pradesh?')\n",
    "    \n",
    "def help_command(update, context):\n",
    "    update.message.reply_text('Yes! How can I help you?')\n",
    "    \n",
    "def handle_message(update, context):\n",
    "    text = str(update.message.text)\n",
    "    response = R.sample_responses(text)\n",
    "    \n",
    "    update.message.reply_text(response)"
   ]
  },
  {
   "cell_type": "code",
   "execution_count": 3,
   "metadata": {},
   "outputs": [],
   "source": [
    "def error(update, context):\n",
    "    print(f\"Update {update} caused error {context.error}\")"
   ]
  },
  {
   "cell_type": "code",
   "execution_count": 4,
   "metadata": {},
   "outputs": [],
   "source": [
    "def main():\n",
    "    updater = Updater(keys.API_KEY, use_context=True)\n",
    "    dp = updater.dispatcher\n",
    "    \n",
    "    dp.add_handler(CommandHandler(\"start\", start_command))\n",
    "    dp.add_handler(CommandHandler(\"help\", help_command))\n",
    "    \n",
    "    dp.add_handler(MessageHandler(Filters.text, handle_message))\n",
    "    \n",
    "    dp.add_error_handler(error)\n",
    "    \n",
    "    updater.start_polling()\n",
    "    updater.idle()\n",
    "    "
   ]
  },
  {
   "cell_type": "code",
   "execution_count": 5,
   "metadata": {},
   "outputs": [],
   "source": [
    "main()"
   ]
  },
  {
   "cell_type": "code",
   "execution_count": null,
   "metadata": {},
   "outputs": [],
   "source": []
  },
  {
   "cell_type": "code",
   "execution_count": null,
   "metadata": {},
   "outputs": [],
   "source": []
  }
 ],
 "metadata": {
  "kernelspec": {
   "display_name": "Python 3",
   "language": "python",
   "name": "python3"
  },
  "language_info": {
   "codemirror_mode": {
    "name": "ipython",
    "version": 3
   },
   "file_extension": ".py",
   "mimetype": "text/x-python",
   "name": "python",
   "nbconvert_exporter": "python",
   "pygments_lexer": "ipython3",
   "version": "3.7.6"
  }
 },
 "nbformat": 4,
 "nbformat_minor": 4
}
