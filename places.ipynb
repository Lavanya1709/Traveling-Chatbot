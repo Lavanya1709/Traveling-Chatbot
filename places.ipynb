{
 "cells": [
  {
   "cell_type": "code",
   "execution_count": 1,
   "metadata": {},
   "outputs": [],
   "source": [
    "import pandas as pd\n",
    "import json"
   ]
  },
  {
   "cell_type": "code",
   "execution_count": 2,
   "metadata": {},
   "outputs": [],
   "source": [
    "with open('links.json') as json_file:\n",
    "    data = json.load(json_file)\n",
    "    \n",
    "df = pd.DataFrame(data)"
   ]
  },
  {
   "cell_type": "code",
   "execution_count": 3,
   "metadata": {},
   "outputs": [],
   "source": [
    "def place(str2,str1):\n",
    "    list = ['one','two','three','four','five']\n",
    "    li = []\n",
    "    for i in list:\n",
    "        li.append(df[str2][str1][i])\n",
    "        \n",
    "    string = ' '.join(map(str, li))    \n",
    "    return string"
   ]
  },
  {
   "cell_type": "code",
   "execution_count": 4,
   "metadata": {},
   "outputs": [],
   "source": [
    "#place('Theatres','Anantapur')"
   ]
  },
  {
   "cell_type": "code",
   "execution_count": 5,
   "metadata": {},
   "outputs": [
    {
     "data": {
      "text/plain": [
       "{'one': 'Triveni Theatre Complex\\nhttps://goo.gl/maps/mtBboHcRj7KtdSmo9',\n",
       " 'two': '\\nSv Cinemax Theatre\\nhttps://goo.gl/maps/FwJV29j5aKeSpzsdA',\n",
       " 'three': '\\nNeelima Theater\\nhttps://goo.gl/maps/quGgpj8R3FEeioCQ6',\n",
       " 'four': '\\nGanga Talkies\\nhttps://goo.gl/maps/Kr26wVVR7X2tR7RR9',\n",
       " 'five': '\\nNandini sarees Movie theater\\nhttps://goo.gl/maps/Rs9gmWPyHsCvhszP8'}"
      ]
     },
     "execution_count": 5,
     "metadata": {},
     "output_type": "execute_result"
    }
   ],
   "source": [
    "data[\"Theatres\"][\"Anantapur\"]"
   ]
  },
  {
   "cell_type": "code",
   "execution_count": null,
   "metadata": {},
   "outputs": [],
   "source": []
  },
  {
   "cell_type": "code",
   "execution_count": null,
   "metadata": {},
   "outputs": [],
   "source": []
  }
 ],
 "metadata": {
  "kernelspec": {
   "display_name": "Python 3",
   "language": "python",
   "name": "python3"
  },
  "language_info": {
   "codemirror_mode": {
    "name": "ipython",
    "version": 3
   },
   "file_extension": ".py",
   "mimetype": "text/x-python",
   "name": "python",
   "nbconvert_exporter": "python",
   "pygments_lexer": "ipython3",
   "version": "3.7.6"
  }
 },
 "nbformat": 4,
 "nbformat_minor": 4
}
